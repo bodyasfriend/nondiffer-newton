{
 "cells": [
  {
   "cell_type": "code",
   "execution_count": 70,
   "id": "30eb6a9f",
   "metadata": {},
   "outputs": [],
   "source": [
    "import numpy as np\n",
    "import math\n",
    "from numpy import linalg as LA"
   ]
  },
  {
   "cell_type": "code",
   "execution_count": 71,
   "id": "9778b87d",
   "metadata": {},
   "outputs": [],
   "source": [
    "def gradient(func, initial, delta=1e-6):\n",
    "    f = func\n",
    "    initial = np.array(initial, dtype=float)\n",
    "    n = len(initial)\n",
    "    output = np.zeros(n)\n",
    "    for i in range(n):\n",
    "        ei = np.zeros(n)\n",
    "        ei[i] = 1\n",
    "        f1 = f(initial + delta * ei)\n",
    "        f2 = f(initial - delta * ei)\n",
    "        output[i] = (f1-f2)/(2*delta)\n",
    "        output = output.reshape(n,1)\n",
    "    return output"
   ]
  },
  {
   "cell_type": "code",
   "execution_count": 72,
   "id": "67e9ef47",
   "metadata": {},
   "outputs": [],
   "source": [
    "def hessian(func, initial, delta=1e-3):\n",
    "    f = func\n",
    "    initial = np.array(initial, dtype=float)\n",
    "    n = len(initial)\n",
    "    output = np.matrix(np.zeros(n*n))\n",
    "    output = output.reshape(n,n)\n",
    "    for i in range(n):\n",
    "        for j in range(n):\n",
    "            ei = np.zeros(n)\n",
    "            ei[i] = 1\n",
    "            ej = np.zeros(n)\n",
    "            ej[j] = 1\n",
    "            f1 = f(initial + delta * ei + delta * ej)\n",
    "            f2 = f(initial + delta * ei - delta * ej)\n",
    "            f3 = f(initial - delta * ei + delta * ej)\n",
    "            f4 = f(initial - delta * ei - delta * ej)\n",
    "            numdiff = (f1-f2-f3+f4)/(4*delta*delta)\n",
    "            output[i,j] = numdiff\n",
    "    return output"
   ]
  },
  {
   "cell_type": "code",
   "execution_count": 73,
   "id": "f1049e6d",
   "metadata": {},
   "outputs": [],
   "source": [
    "def flatten(arr):\n",
    "    return [arr[0,0] for i in arr]"
   ]
  },
  {
   "cell_type": "code",
   "execution_count": 74,
   "id": "21dfd7a6",
   "metadata": {},
   "outputs": [],
   "source": [
    "def f1(x):\n",
    "    x1 = x[0]\n",
    "    x2 = x[1]\n",
    "    x3 = x[2]\n",
    "    output = x1**2 + x2**2 + x3**2\n",
    "    return output\n",
    "\n",
    "# def f2(x):\n",
    "#     x1 = x[0]\n",
    "#     x2 = x[1]\n",
    "#     x3 = x[2]\n",
    "#     output = 2\n",
    "#     return output"
   ]
  },
  {
   "cell_type": "code",
   "execution_count": 75,
   "id": "499ac085",
   "metadata": {},
   "outputs": [],
   "source": [
    "def newton_method(func, initial, epsilon=1e-5):\n",
    "    iteration = 0\n",
    "    x = initial\n",
    "    print(f'iteration={iteration}')\n",
    "    print(f'\\t x={x}')\n",
    "    diff = flatten(np.dot(LA.inv(hessian(func, x)), gradient(func, x)))\n",
    "    x_next = np.array(x) - np.array(diff)\n",
    "    print(f'\\t x_next={x_next}')\n",
    "    print(f'\\t f(x_next)={func(x_next)}')\n",
    "    \n",
    "    while np.all(LA.norm(x-x_next)) > epsilon:\n",
    "        x = x_next\n",
    "        print(f'iteration={iteration}')\n",
    "        print(f'\\t x={x}')\n",
    "        diff = flatten(np.dot(LA.inv(hessian(func, x)), gradient(func, x)))    \n",
    "        x_next = np.array(x) - np.array(diff)\n",
    "        print(f'\\t x_next={x_next}')\n",
    "        print(f'\\t f(x_next)={func(x_next)}')\n",
    "        \n",
    "        iteration += 1\n",
    "        if iteration > 1000:\n",
    "            print(f'x_next = {x_next}')\n",
    "            raise('Too many iterations')\n",
    "    \n",
    "    return x_next"
   ]
  },
  {
   "cell_type": "code",
   "execution_count": 76,
   "id": "a46b5947",
   "metadata": {},
   "outputs": [
    {
     "name": "stdout",
     "output_type": "stream",
     "text": [
      "iteration=0\n",
      "\t x=[1, 12, 3]\n",
      "\t x_next=[3.55271368e-09 1.10000000e+01 2.00000000e+00]\n",
      "\t f(x_next)=125.00000009237056\n",
      "iteration=0\n",
      "\t x=[3.55271368e-09 1.10000000e+01 2.00000000e+00]\n",
      "\t x_next=[3.65203466e-18 1.10000000e+01 2.00000000e+00]\n",
      "\t f(x_next)=125.0\n",
      "iteration=1\n",
      "\t x=[3.65203466e-18 1.10000000e+01 2.00000000e+00]\n",
      "\t x_next=[3.65203466e-18 1.10000000e+01 2.00000000e+00]\n",
      "\t f(x_next)=125.0\n"
     ]
    },
    {
     "data": {
      "text/plain": [
       "array([3.65203466e-18, 1.10000000e+01, 2.00000000e+00])"
      ]
     },
     "execution_count": 76,
     "metadata": {},
     "output_type": "execute_result"
    }
   ],
   "source": [
    "func = f1\n",
    "x = [1, 12, 3]\n",
    "newton_method(func, x)"
   ]
  },
  {
   "cell_type": "code",
   "execution_count": null,
   "id": "ce40cd2e",
   "metadata": {},
   "outputs": [],
   "source": []
  },
  {
   "cell_type": "code",
   "execution_count": null,
   "id": "739de409",
   "metadata": {},
   "outputs": [],
   "source": []
  }
 ],
 "metadata": {
  "kernelspec": {
   "display_name": "Python 3",
   "language": "python",
   "name": "python3"
  },
  "language_info": {
   "codemirror_mode": {
    "name": "ipython",
    "version": 3
   },
   "file_extension": ".py",
   "mimetype": "text/x-python",
   "name": "python",
   "nbconvert_exporter": "python",
   "pygments_lexer": "ipython3",
   "version": "3.8.8"
  }
 },
 "nbformat": 4,
 "nbformat_minor": 5
}
